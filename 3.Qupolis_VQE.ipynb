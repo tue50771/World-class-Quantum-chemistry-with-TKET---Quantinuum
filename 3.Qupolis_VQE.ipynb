{
 "cells": [
  {
   "cell_type": "code",
   "execution_count": 1,
   "id": "33d38a5e-c194-4b4a-ade7-1c2033d628aa",
   "metadata": {},
   "outputs": [],
   "source": [
    "#Run with kernel qBraid-SDK on QBraid\n",
    "\n",
    "from qiskit_nature.drivers import UnitsType, Molecule\n",
    "from qiskit.algorithms import NumPyMinimumEigensolver, VQE, HamiltonianPhaseEstimation, PhaseEstimation\n",
    "import numpy as np\n",
    "from qiskit.utils import QuantumInstance\n",
    "from qiskit import Aer\n",
    "from qiskit.circuit.library import TwoLocal\n",
    "from qiskit_nature.algorithms import VQEUCCFactory, GroundStateEigensolver, NumPyMinimumEigensolverFactory, BOPESSampler\n",
    "from qiskit_nature.drivers.second_quantization import ElectronicStructureDriverType, ElectronicStructureMoleculeDriver\n",
    "from qiskit_nature.problems.second_quantization import ElectronicStructureProblem\n",
    "from qiskit_nature.mappers.second_quantization import ParityMapper, JordanWignerMapper, BravyiKitaevMapper\n",
    "from qiskit_nature.converters.second_quantization import QubitConverter\n",
    "from qiskit.opflow import StateFn, PauliExpectation,  CircuitSampler, PauliTrotterEvolution\n",
    "import time, datetime\n",
    "from qiskit.algorithms.optimizers import QNSPSA"
   ]
  },
  {
   "cell_type": "code",
   "execution_count": 2,
   "id": "90d1b293-ebb3-415c-8dc1-17f7d647392b",
   "metadata": {},
   "outputs": [],
   "source": [
    "import pandas as pd\n",
    "import os.path"
   ]
  },
  {
   "cell_type": "markdown",
   "id": "c3a4d61c-3621-4210-9f81-9da7ff372d23",
   "metadata": {},
   "source": [
    "#### Different backends"
   ]
  },
  {
   "cell_type": "code",
   "execution_count": 3,
   "id": "c7ca2917-ee57-46f8-b227-ab3ef46bcf86",
   "metadata": {},
   "outputs": [],
   "source": [
    "from pytket.extensions.braket import BraketBackend"
   ]
  },
  {
   "cell_type": "code",
   "execution_count": 4,
   "id": "25077963-af2e-4817-bacb-a447af0bee80",
   "metadata": {},
   "outputs": [
    {
     "name": "stderr",
     "output_type": "stream",
     "text": [
      "/tmp/ipykernel_30288/2246937046.py:1: DeprecationWarning: The module 'qiskit.test.mock' is deprecated since Qiskit Terra 0.21.0, and will be removed 3 months or more later. Instead, you should import the desired object directly 'qiskit.providers.fake_provider'.\n",
      "  from qiskit.test.mock import FakeVigo\n"
     ]
    }
   ],
   "source": [
    "from qiskit.test.mock import FakeVigo\n",
    "from qiskit.providers.aer import AerSimulator\n",
    "from qiskit.providers.aer import QasmSimulator\n",
    "from qiskit.providers.aer.noise import NoiseModel"
   ]
  },
  {
   "cell_type": "code",
   "execution_count": 5,
   "id": "cf9bd6b8-4482-43c7-9755-22fa41803cca",
   "metadata": {},
   "outputs": [],
   "source": [
    "backend = AerSimulator() #NOISE\n",
    "device_backend = FakeVigo() #NOISE\n",
    "device = QasmSimulator.from_backend(device_backend) #NOISE"
   ]
  },
  {
   "cell_type": "code",
   "execution_count": 6,
   "id": "c784ada4-27e1-4c76-8be5-5c710e275c19",
   "metadata": {},
   "outputs": [],
   "source": [
    "coupling_map = device.configuration().coupling_map #NOISE\n",
    "noise_model = NoiseModel.from_backend(device) #NOISE\n",
    "basis_gates = noise_model.basis_gates #NOISE"
   ]
  },
  {
   "cell_type": "code",
   "execution_count": 7,
   "id": "64d017ea-e077-474f-a362-94f707043475",
   "metadata": {},
   "outputs": [],
   "source": [
    "from pytket.extensions.qiskit import IBMQEmulatorBackend"
   ]
  },
  {
   "cell_type": "code",
   "execution_count": 8,
   "id": "c0df900a-5171-4f4f-9022-17cd24bebc0b",
   "metadata": {},
   "outputs": [],
   "source": [
    "from qiskit import IBMQ\n",
    "IBMQ.save_account('MY TOKEN',overwrite=True) # Save TOKEN to disk\n",
    "IBMQ.load_account() # Load account from disk\n",
    "IBMQ.providers()    # List all available providers\n",
    "\n",
    "provider = IBMQ.get_provider(hub='ibm-q') #NOISE\n",
    "#backend = provider.get_backend(\"ibmq_manila\") # Specifying Quantum device"
   ]
  },
  {
   "cell_type": "code",
   "execution_count": 41,
   "id": "d9fa243e-e8c6-47f6-a8be-2a7b0339b46c",
   "metadata": {},
   "outputs": [],
   "source": [
    "#backend = IBMQEmulatorBackend(\"ibmq_manila\")"
   ]
  },
  {
   "cell_type": "code",
   "execution_count": 9,
   "id": "0aee8684-af58-46ec-85d2-70369ded619b",
   "metadata": {},
   "outputs": [],
   "source": [
    "# noise details\n",
    "coupling_map = device.configuration().coupling_map #NOISE\n",
    "noise_model = NoiseModel.from_backend(device) #NOISE\n",
    "basis_gates = noise_model.basis_gates #NOISE"
   ]
  },
  {
   "cell_type": "code",
   "execution_count": 10,
   "id": "d2a66449-5421-4798-8ceb-899fb4e93156",
   "metadata": {},
   "outputs": [
    {
     "name": "stderr",
     "output_type": "stream",
     "text": [
      "/tmp/ipykernel_30288/992398542.py:1: DeprecationWarning: The qiskit.ignis package is deprecated and has been supersceded by the qiskit-experiments project. Refer to the migration guide: https://github.com/Qiskit/qiskit-ignis#migration-guide on how to migrate to the new project.\n",
      "  from qiskit.ignis.mitigation.measurement import CompleteMeasFitter\n"
     ]
    }
   ],
   "source": [
    "from qiskit.ignis.mitigation.measurement import CompleteMeasFitter"
   ]
  },
  {
   "cell_type": "markdown",
   "id": "7c45057f-7193-4c42-97a5-1c4a6b86efd4",
   "metadata": {},
   "source": [
    "#### VQE solver"
   ]
  },
  {
   "cell_type": "code",
   "execution_count": 11,
   "id": "0c700fe7-b75d-47a3-90f3-7401b5177227",
   "metadata": {},
   "outputs": [],
   "source": [
    "#quantum_instance = QuantumInstance(backend = Aer.get_backend('aer_simulator_statevector'))# NOISELESS\n",
    "\n",
    "#To introduce noise\n",
    "quantum_instance = QuantumInstance(backend=backend, \n",
    "                                   shots=8192, \n",
    "                                   noise_model=noise_model, \n",
    "                                  \n",
    "                                   measurement_error_mitigation_cls=CompleteMeasFitter,\n",
    "                                   cals_matrix_refresh_period=30)"
   ]
  },
  {
   "cell_type": "code",
   "execution_count": 12,
   "id": "2ba5aaa8-71e2-4bb6-88c8-dcf0e5a36935",
   "metadata": {},
   "outputs": [],
   "source": [
    "numpy_solver = NumPyMinimumEigensolver() #gives the exact solution\n"
   ]
  },
  {
   "cell_type": "markdown",
   "id": "bfe5504a-7bc0-41fa-af0d-c9a37db33596",
   "metadata": {},
   "source": [
    "two-local circuits"
   ]
  },
  {
   "cell_type": "code",
   "execution_count": 13,
   "id": "08543718-07dc-4aa0-a9db-f1baf6c2af04",
   "metadata": {},
   "outputs": [],
   "source": [
    "tl_circuit = TwoLocal(rotation_blocks = ['h', 'rx'], entanglement_blocks = 'cz',\n",
    "                      entanglement='full', reps=2, parameter_prefix = 'y')"
   ]
  },
  {
   "cell_type": "markdown",
   "id": "d4ce0f74-88b4-4bd0-9f1b-278b951bed9b",
   "metadata": {},
   "source": [
    "Create the VQE using the Two-Local circuit ansatz with the default Sequential Least Squares Programming optimizer:"
   ]
  },
  {
   "cell_type": "code",
   "execution_count": 14,
   "id": "e69d1547-3891-4015-bf48-86c248409613",
   "metadata": {},
   "outputs": [],
   "source": [
    "vqe_tl_solver = VQE(ansatz = tl_circuit,\n",
    "                     quantum_instance = QuantumInstance(Aer.get_backend('aer_simulator_statevector')))"
   ]
  },
  {
   "cell_type": "code",
   "execution_count": 15,
   "id": "a36852f0-b65b-4544-bfa1-dfd41f75386d",
   "metadata": {},
   "outputs": [
    {
     "name": "stderr",
     "output_type": "stream",
     "text": [
      "/tmp/ipykernel_30288/3916184536.py:1: DeprecationWarning: VQEUCCFactory Constructor: quantum_instance is no longer a positional argument as of version 0.4 and will be removed no sooner than 3 months after the release. Instead use it as a keyword argument\n",
      "  vqe_ucc_solver = VQEUCCFactory(quantum_instance, ansatz=tl_circuit)\n"
     ]
    }
   ],
   "source": [
    "vqe_ucc_solver = VQEUCCFactory(quantum_instance, ansatz=tl_circuit)"
   ]
  },
  {
   "cell_type": "markdown",
   "id": "13a48944-d6fe-48a1-bd0a-46eaeb41ed97",
   "metadata": {},
   "source": [
    "Create a callback function for the Quantum Natural SPSA (QN-SPSA) optimizer"
   ]
  },
  {
   "cell_type": "code",
   "execution_count": 16,
   "id": "508459f5-9520-4295-8cf5-258e1ff29407",
   "metadata": {},
   "outputs": [],
   "source": [
    "qnspsa_loss = []\n",
    "def qnspsaclb(nfev, x, fx, stepsize, accepted):\n",
    "    qnspsa_loss.append(fx)"
   ]
  },
  {
   "cell_type": "markdown",
   "id": "3f3ba085-9f60-44d4-98e3-3bc97db58e67",
   "metadata": {},
   "source": [
    "### Different chemical functions"
   ]
  },
  {
   "cell_type": "code",
   "execution_count": 17,
   "id": "357319dd-b99a-4b32-a6dc-0707735426a9",
   "metadata": {},
   "outputs": [],
   "source": [
    "def show_particle_nr(problem, show=True):\n",
    "  particle_number = problem.grouped_property_transformed.get_property(\"ParticleNumber\")\n",
    "  num_particles = (particle_number.num_alpha, particle_number.num_beta)\n",
    "  num_spin_orbitals = particle_number.num_spin_orbitals\n",
    "  if show:\n",
    "    print(\"Number of alpha electrons: {}\".format(particle_number.num_alpha))\n",
    "    print(\"Number of beta electrons: {}\".format(particle_number.num_beta))\n",
    "    print(\"Number of spin orbitals: {}\".format(num_spin_orbitals))\n",
    "  return particle_number"
   ]
  },
  {
   "cell_type": "code",
   "execution_count": 18,
   "id": "69b48e20-881e-422e-87e7-351d942bc513",
   "metadata": {},
   "outputs": [],
   "source": [
    "def fermion_to_qubit(f_op, second_q_op, mapper, truncate=20, two_qubit_reduction=False, z2symmetry_reduction=None, show=True): \n",
    "  if show:\n",
    "    print(\"Qubit Hamiltonian operator\")\n",
    "  dmap = {\"Jordan-Wigner\": JordanWignerMapper(), \"Parity\": ParityMapper(), \"Bravyi-Kitaev\": BravyiKitaevMapper()}\n",
    "  qubit_op = None\n",
    "  qubit_converter = None\n",
    "  for k, v in dmap.items():\n",
    "    if k == mapper:\n",
    "      if show:\n",
    "        print(\"{} transformation \". format(mapper))\n",
    "      qubit_converter = QubitConverter(v, two_qubit_reduction=two_qubit_reduction, z2symmetry_reduction=z2symmetry_reduction)\n",
    "      if two_qubit_reduction:\n",
    "        qubit_op = qubit_converter.convert(second_q_op[0], num_particles=f_op.num_particles)\n",
    "      else:\n",
    "        qubit_op = qubit_converter.convert(second_q_op[0])\n",
    "      n_items = len(qubit_op)\n",
    "      if show:\n",
    "        print(\"Number of items in the Pauli list:\", n_items)\n",
    "        if n_items <= truncate:\n",
    "          print(qubit_op)\n",
    "        else:\n",
    "          print(qubit_op[0:truncate])\n",
    "  return qubit_op, qubit_converter"
   ]
  },
  {
   "cell_type": "code",
   "execution_count": 19,
   "id": "c0e6dd4f-060a-4e02-90a9-2db999b32e6c",
   "metadata": {},
   "outputs": [],
   "source": [
    "def run_vqe(name, f_op, qubit_converter, solver, show=True):\n",
    "  calc = GroundStateEigensolver(qubit_converter, solver)\n",
    "  start = time.time()\n",
    "  ground_state = calc.solve(f_op)\n",
    "  elapsed = str(datetime.timedelta(seconds = time.time()-start))\n",
    "  if show:\n",
    "    print(\"Running the VQE using the {}\".format(name))\n",
    "    print(\"Elapsed time: {} \\n\".format(elapsed))\n",
    "    print(ground_state)\n",
    "  return ground_state"
   ]
  },
  {
   "cell_type": "markdown",
   "id": "de8a01d2-303f-4e62-b9f2-1ac4142b541c",
   "metadata": {},
   "source": [
    "run_qpe() function performs a phase estimation and returns an eigenvalue of a Hamiltonian as an estimation of the electronic ground state energy."
   ]
  },
  {
   "cell_type": "code",
   "execution_count": 20,
   "id": "e1dbc7c1-77fe-4039-aefd-14fccfa2d822",
   "metadata": {},
   "outputs": [],
   "source": [
    "def run_qpe(particle_number, qubit_converter, qubit_op, n_ancillae=3, num_time_slices = 1, show=True):\n",
    "  initial_state = HartreeFock(particle_number.num_spin_orbitals, \n",
    "                            (particle_number.num_alpha, \n",
    "                             particle_number.num_beta), qubit_converter)\n",
    "  \n",
    "  state_preparation = StateFn(initial_state)\n",
    "\n",
    "  evolution = PauliTrotterEvolution('trotter', reps=num_time_slices)\n",
    "\n",
    "  qpe = HamiltonianPhaseEstimation(n_ancillae, quantum_instance=quantum_instance)\n",
    "  result = qpe.estimate(qubit_op, state_preparation, evolution=evolution)\n",
    "\n",
    "  if show:\n",
    "    print(\"\\nQPE initial Hartree Fock state\")\n",
    "    display(initial_state.draw(output='mpl'))\n",
    "    eigv = result.most_likely_eigenvalue\n",
    "    print(\"QPE computed electronic ground state energy (Hartree): {}\".format(eigv))\n",
    "  \n",
    "  return eigv"
   ]
  },
  {
   "cell_type": "markdown",
   "id": "d8244e60-2c2d-4fd4-8a4c-12329c927d04",
   "metadata": {},
   "source": [
    "Plot the energy as a functoin of atomic separation:"
   ]
  },
  {
   "cell_type": "code",
   "execution_count": 21,
   "id": "42e8e62b-3931-4945-97d0-61b0e79eed6a",
   "metadata": {},
   "outputs": [],
   "source": [
    "def plot_energy_landscape(energy_surface_result):\n",
    "  if len(energy_surface_result.points) > 1:\n",
    "      plt.plot(energy_surface_result.points, energy_surface_result.energies, label=\"VQE Energy\")\n",
    "      plt.xlabel('Atomic distance Deviation(Angstrom)')\n",
    "      plt.ylabel('Energy (hartree)')\n",
    "      plt.legend()\n",
    "      plt.show()\n",
    "  else:\n",
    "      print(\"Total Energy is: \", energy_surface_result.energies[0], \"hartree\")\n",
    "      print(\"(No need to plot, only one configuration calculated.)\")\n",
    "  return"
   ]
  },
  {
   "cell_type": "code",
   "execution_count": 22,
   "id": "e5e732b6-846e-4714-8623-38517039f97d",
   "metadata": {},
   "outputs": [],
   "source": [
    "def plot_loss(loss, label, target):\n",
    "  plt.figure(figsize=(12, 6))\n",
    "  plt.plot(loss, 'tab:green', ls='--', label=label)\n",
    "  plt.axhline(target, c='tab:red', ls='--', label='target')\n",
    "  plt.ylabel('loss')\n",
    "  plt.xlabel('iterations')\n",
    "  plt.legend()"
   ]
  },
  {
   "cell_type": "markdown",
   "id": "6058a8c7-8b2c-4836-b7eb-daed9de13b40",
   "metadata": {},
   "source": [
    "To solve for the energy values of the ground state, we specify the mapper, here Parity, since we can use it to reduce qubits, and the ansatz. Here the Numpy exact solver."
   ]
  },
  {
   "cell_type": "code",
   "execution_count": 23,
   "id": "ba9cb11b-87a0-44ff-acad-40a696589d2e",
   "metadata": {},
   "outputs": [],
   "source": [
    "def solve_ground_state(\n",
    "    molecule,\n",
    "    mapper =\"Parity\",\n",
    "    num_electrons=None,\n",
    "    num_molecular_orbitals=None,\n",
    "    transformers=None, #freezecoretransformer for LiH\n",
    "    two_qubit_reduction=False,\n",
    "    z2symmetry_reduction = \"Auto\",\n",
    "    name_solver='NumPy exact solver',\n",
    "    solver=NumPyMinimumEigensolver(),\n",
    "    plot_bopes=False,\n",
    "    perturbation_steps=np.linspace(-1, 1, 3),\n",
    "    pyqmc=True,\n",
    "    n_ancillae=3, \n",
    "    num_time_slices=1,\n",
    "    loss=[],\n",
    "    label=None,\n",
    "    target=None,\n",
    "    show=True\n",
    "):\n",
    "\n",
    "    # Defining the electronic structure molecule driver\n",
    "    driver = ElectronicStructureMoleculeDriver(molecule, basis='sto3g', driver_type=ElectronicStructureDriverType.PYSCF)\n",
    "\n",
    "    # Splitting into classical and quantum\n",
    "    if num_electrons != None and num_molecular_orbitals != None:\n",
    "      split = ActiveSpaceTransformer(num_electrons=num_electrons, num_molecular_orbitals=num_molecular_orbitals)\n",
    "    else:\n",
    "      split = None\n",
    "\n",
    "    # Defining a fermionic Hamiltonian operator\n",
    "    if split != None:\n",
    "      fermionic_hamiltonian = ElectronicStructureProblem(driver, [split])\n",
    "    elif transformers != None:\n",
    "      fermionic_hamiltonian = ElectronicStructureProblem(driver, transformers=transformers)\n",
    "    else:\n",
    "      fermionic_hamiltonian = ElectronicStructureProblem(driver)\n",
    "\n",
    "    # Use the second_q_ops() method [Qiskit_Nat_3] which returns a list of second quantized operators\n",
    "    second_q_op = fermionic_hamiltonian.second_q_ops()\n",
    "    \n",
    "     # Get particle number\n",
    "    particle_number = show_particle_nr(fermionic_hamiltonian, show=show)\n",
    "\n",
    "    if show:\n",
    "      # We set truncation to 1000 with the method set_truncation(1000)\n",
    "      second_q_op[0].set_truncation(1000)\n",
    "      # then we print the first 20 terms of the fermionic Hamiltonian operator of the molecule\n",
    "      print(\"Fermionic Hamiltonian operator\")\n",
    "      print(second_q_op[0])\n",
    "    \n",
    "    # Use the function fermion_to_qubit() to convert a fermionic operator to a qubit operator\n",
    "    if show:\n",
    "      print(\" \")\n",
    "    qubit_op, qubit_converter = fermion_to_qubit(fermionic_hamiltonian, second_q_op, mapper=mapper, two_qubit_reduction=two_qubit_reduction, z2symmetry_reduction=z2symmetry_reduction, show=show)\n",
    "\n",
    "    # Run the the PySCF RHF method\n",
    "    if show:\n",
    "      print(\" \")\n",
    "    conv, e = run_PySCF(molecule, pyqmc=pyqmc, show=show)\n",
    "\n",
    "    # Run QPE\n",
    "    eigv = run_qpe(particle_number, qubit_converter, qubit_op, n_ancillae=n_ancillae, num_time_slices=num_time_slices, show=show)\n",
    "\n",
    "    # Run VQE, solve for the ground state\n",
    "    if show:\n",
    "      print(\" \")\n",
    "    ground_state = run_vqe(name_solver, fermionic_hamiltonian, qubit_converter, solver, show=show)\n",
    "\n",
    "    # Plot loss function, evolution of loss as a function of iterations\n",
    "    if loss != []:\n",
    "      plot_loss(loss, label, target)\n",
    "\n",
    "    if plot_bopes:\n",
    "      # Compute the potential energy surface as follows:\n",
    "      energy_surface = BOPESSampler(gss=GroundStateEigensolver(qubit_converter, solver), bootstrap=False)\n",
    "      # Fix enables using BOPESS together with Unitary Coupled Cluster (UCC) factory ansatz\n",
    "      # Set default to an empty dictionary instead of None:\n",
    "      energy_surface._points_optparams = {}\n",
    "      energy_surface_result = energy_surface.sample(fermionic_hamiltonian, perturbation_steps)\n",
    "\n",
    "      # Plot the energy as a function of atomic separation\n",
    "      plot_energy_landscape(energy_surface_result)\n",
    "\n",
    "    return fermionic_hamiltonian, particle_number, qubit_op, qubit_converter, ground_state"
   ]
  },
  {
   "cell_type": "code",
   "execution_count": 24,
   "id": "9cc1dcd8-02de-4410-ab6f-0db20f8e0230",
   "metadata": {},
   "outputs": [],
   "source": [
    "def run_PySCF(molecule, pyqmc=True, show=True):\n",
    "  # Reset the files\n",
    "  for fname in ['mf.hdf5','optimized_wf.hdf5','vmc_data.hdf5','dmc.hdf5']:\n",
    "    if os.path.isfile(fname):\n",
    "        os.remove(fname)\n",
    "  #Construct a PySCF molecular geometry from the molecule passed as an input parameter\n",
    "  mol_PySCF = gto.M(atom = [\" \".join(map(str, (name, *coord))) for (name, coord) in molecule.geometry])\n",
    "  \n",
    "  #Run the PySCF RHF method\n",
    "  mf = scf.RHF(mol_PySCF)\n",
    "  mf.chkfile = \"mf.hdf5\"\n",
    "  \n",
    "  conv, e, mo_e, mo, mo_occ = scf.hf.kernel(mf)\n",
    "  if show:\n",
    "    if conv:\n",
    "      print(\"PySCF restricted HF (RHF) converged ground-state energy: {:.12f}\".format(e))\n",
    "    else:\n",
    "      print(\"PySCF restricted HF (RHF) ground-state computation failed to converge\")\n",
    "   \n",
    "\n",
    "  #Run the OPTIMIZE function in the PyQMC Python module:\n",
    "  if pyqmc:\n",
    "    pyq.OPTIMIZE(\"mf.hdf5\",# Construct a Slater-Jastrow wave function from the pyscf output\n",
    "      \"optimized_wf.hdf5\", # Store optimized parameters in this file.\n",
    "      nconfig=100,         # Optimize using this many Monte Carlo samples/configurations\n",
    "      max_iterations=4,    # 4 optimization steps\n",
    "      verbose=False)\n",
    "    #Read the content of the HDF5 file, which contains the optimized parameters, and if the PyQMC variational\n",
    "    #Monte Carlo computation converged, then we print the energy of each iteration:\n",
    "    with h5py.File(\"optimized_wf.hdf5\") as f:\n",
    "      iter = f['iteration']\n",
    "      energy = f['energy']\n",
    "      error = f['energy_error']\n",
    "      l = energy.shape[0]\n",
    "      e = energy[l-1]\n",
    "      err = error[l-1]\n",
    "      if show:\n",
    "        if err < 0.1:\n",
    "          print(\"Iteration, Energy, Error\")\n",
    "          for k in iter:\n",
    "            print(\"{}:         {:.4f} {:.4f}\".format(k, energy[k], error[k]))\n",
    "          print(\"PyQMC Monte Carlo converged ground-state energy: {:.12f}, error: {:.4f}\".format(e, err))\n",
    "        else:\n",
    "          print(\"PyQMC Monte Carlo failed to converge\")\n",
    "  #return conv,Boolean, set to True of the PySCF RHF method converged\n",
    "  #e the energy of the ground state\n",
    "  return conv, e"
   ]
  },
  {
   "cell_type": "code",
   "execution_count": null,
   "id": "7dbf803d-b0c2-452c-bc35-addb5a868cae",
   "metadata": {},
   "outputs": [],
   "source": []
  },
  {
   "cell_type": "markdown",
   "id": "5b31be2c-4b8e-40ca-ac48-8831aabd0f0a",
   "metadata": {},
   "source": [
    "### The Hydrogen Molecule"
   ]
  },
  {
   "cell_type": "code",
   "execution_count": 25,
   "id": "eed46b08-f8ef-4e46-b8e1-1ea408549e58",
   "metadata": {},
   "outputs": [],
   "source": [
    "h2_molecule = Molecule(geometry=[['H', [0., 0., 0.]],\n",
    "                              ['H', [0., 0., 0.735]]],\n",
    "                     charge=0, multiplicity=1)"
   ]
  },
  {
   "cell_type": "markdown",
   "id": "ba879441-d8c1-40c3-8bec-d4b245167826",
   "metadata": {},
   "source": [
    "Vary the molecule"
   ]
  },
  {
   "cell_type": "code",
   "execution_count": 26,
   "id": "fdadf331-5e93-41ee-b551-d4597eccda3d",
   "metadata": {},
   "outputs": [],
   "source": [
    "varymol = Molecule.absolute_stretching"
   ]
  },
  {
   "cell_type": "code",
   "execution_count": 27,
   "id": "b1742aab-d8f8-4678-9b88-6d16197dacf7",
   "metadata": {},
   "outputs": [],
   "source": [
    "from functools import partial as apply_variation"
   ]
  },
  {
   "cell_type": "markdown",
   "id": "5c3802f1-c8e2-4979-819f-9e08ced5641f",
   "metadata": {},
   "source": [
    "first atom of the specified atom pair is moved closer to the second atom. "
   ]
  },
  {
   "cell_type": "code",
   "execution_count": 28,
   "id": "1507f01d-2252-496d-a458-d4e641090506",
   "metadata": {},
   "outputs": [],
   "source": [
    "varymolspec = apply_variation(varymol, atom_pair=(1, 0))"
   ]
  },
  {
   "cell_type": "markdown",
   "id": "736acb68-0e8e-484b-b0d3-7a0ccf5ae5a1",
   "metadata": {},
   "source": [
    "Change degreed of freedom to varymolspec"
   ]
  },
  {
   "cell_type": "code",
   "execution_count": 29,
   "id": "9ceb65d9-acce-4992-9c26-396bb26104c3",
   "metadata": {},
   "outputs": [],
   "source": [
    "h2_molecule_stretchable = Molecule(geometry=\n",
    "                                 [['H', [0., 0., 0.]],\n",
    "                                  ['H', [0., 0., 0.735]]],\n",
    "                                  charge=0, multiplicity=1,\n",
    "                                  degrees_of_freedom=[varymolspec])"
   ]
  },
  {
   "cell_type": "code",
   "execution_count": 30,
   "id": "2f8233ed-a49a-4e17-a228-cc6f980246f5",
   "metadata": {},
   "outputs": [],
   "source": [
    "def solve_ground_state(\n",
    "    molecule,\n",
    "    mapper =\"Parity\",\n",
    "    num_electrons=None,\n",
    "    num_molecular_orbitals=None,\n",
    "    transformers=None, #freezecoretransformer for LiH\n",
    "    two_qubit_reduction=False,\n",
    "    z2symmetry_reduction = \"Auto\",\n",
    "    name_solver='NumPy exact solver',\n",
    "    solver=NumPyMinimumEigensolver(),\n",
    "    plot_bopes=False,\n",
    "    perturbation_steps=np.linspace(-1, 1, 3),\n",
    "    pyqmc=True,\n",
    "    n_ancillae=3, \n",
    "    num_time_slices=1,\n",
    "    loss=[],\n",
    "    label=None,\n",
    "    target=None,\n",
    "    show=True\n",
    "):\n",
    "\n",
    "    # Defining the electronic structure molecule driver\n",
    "    driver = ElectronicStructureMoleculeDriver(molecule, basis='sto3g', driver_type=ElectronicStructureDriverType.PYSCF)\n",
    "\n",
    "    # Splitting into classical and quantum\n",
    "    if num_electrons != None and num_molecular_orbitals != None:\n",
    "      split = ActiveSpaceTransformer(num_electrons=num_electrons, num_molecular_orbitals=num_molecular_orbitals)\n",
    "    else:\n",
    "      split = None\n",
    "\n",
    "    # Defining a fermionic Hamiltonian operator\n",
    "    if split != None:\n",
    "      fermionic_hamiltonian = ElectronicStructureProblem(driver, [split])\n",
    "    elif transformers != None:\n",
    "      fermionic_hamiltonian = ElectronicStructureProblem(driver, transformers=transformers)\n",
    "    else:\n",
    "      fermionic_hamiltonian = ElectronicStructureProblem(driver)\n",
    "\n",
    "    # Use the second_q_ops() method [Qiskit_Nat_3] which returns a list of second quantized operators\n",
    "    second_q_op = fermionic_hamiltonian.second_q_ops()\n",
    "    \n",
    "     # Get particle number\n",
    "    particle_number = show_particle_nr(fermionic_hamiltonian, show=show)\n",
    "\n",
    "    if show:\n",
    "      # We set truncation to 1000 with the method set_truncation(1000)\n",
    "      second_q_op[0].set_truncation(1000)\n",
    "      # then we print the first 20 terms of the fermionic Hamiltonian operator of the molecule\n",
    "      print(\"Fermionic Hamiltonian operator\")\n",
    "      print(second_q_op[0])\n",
    "    \n",
    "    # Use the function fermion_to_qubit() to convert a fermionic operator to a qubit operator\n",
    "    if show:\n",
    "      print(\" \")\n",
    "    qubit_op, qubit_converter = fermion_to_qubit(fermionic_hamiltonian, second_q_op, mapper=mapper, two_qubit_reduction=two_qubit_reduction, z2symmetry_reduction=z2symmetry_reduction, show=show)\n",
    "\n",
    "    # Run the the PySCF RHF method\n",
    "    if show:\n",
    "      print(\" \")\n",
    "    conv, e = run_PySCF(molecule, pyqmc=pyqmc, show=show)\n",
    "\n",
    "    # Run QPE\n",
    "    eigv = run_qpe(particle_number, qubit_converter, qubit_op, n_ancillae=n_ancillae, num_time_slices=num_time_slices, show=show)\n",
    "\n",
    "    # Run VQE, solve for the ground state\n",
    "    if show:\n",
    "      print(\" \")\n",
    "    ground_state = run_vqe(name_solver, fermionic_hamiltonian, qubit_converter, solver, show=show)\n",
    "\n",
    "    # Plot loss function, evolution of loss as a function of iterations\n",
    "    if loss != []:\n",
    "      plot_loss(loss, label, target)\n",
    "\n",
    "    if plot_bopes:\n",
    "      # Compute the potential energy surface as follows:\n",
    "      energy_surface = BOPESSampler(gss=GroundStateEigensolver(qubit_converter, solver), bootstrap=False)\n",
    "      # Fix enables using BOPESS together with Unitary Coupled Cluster (UCC) factory ansatz\n",
    "      # Set default to an empty dictionary instead of None:\n",
    "      energy_surface._points_optparams = {}\n",
    "      energy_surface_result = energy_surface.sample(fermionic_hamiltonian, perturbation_steps)\n",
    "\n",
    "      # Plot the energy as a function of atomic separation\n",
    "      plot_energy_landscape(energy_surface_result)\n",
    "\n",
    "    return fermionic_hamiltonian, particle_number, qubit_op, qubit_converter, ground_state"
   ]
  },
  {
   "cell_type": "markdown",
   "id": "f511ca57-af77-42df-b27b-00eeae257d4d",
   "metadata": {},
   "source": [
    "#### Find the ground state energy values"
   ]
  },
  {
   "cell_type": "markdown",
   "id": "056d1963-f212-4030-8f2f-0530c7c4b535",
   "metadata": {},
   "source": [
    "Run VQE with NumPy exact minimum eigensolver"
   ]
  },
  {
   "cell_type": "code",
   "execution_count": 31,
   "id": "e1107f86-d023-4d45-b65f-91b38660e029",
   "metadata": {},
   "outputs": [],
   "source": [
    "from pyscf import gto, scf"
   ]
  },
  {
   "cell_type": "code",
   "execution_count": 32,
   "id": "3b58a0ec-f6c4-495a-923b-6122c88089d0",
   "metadata": {},
   "outputs": [],
   "source": [
    "import pyqmc.api as pyq\n",
    "import h5py\n",
    "from qiskit_nature.circuit.library.initial_states import HartreeFock"
   ]
  },
  {
   "cell_type": "code",
   "execution_count": 33,
   "id": "acc11d33-4f4d-4700-af2c-8ac024fcb961",
   "metadata": {},
   "outputs": [
    {
     "name": "stderr",
     "output_type": "stream",
     "text": [
      "/home/jovyan/.qbraid/environments/qbraid_sdk_9j9sjy/pyenv/lib/python3.9/site-packages/qiskit_nature/problems/second_quantization/electronic/electronic_structure_problem.py:93: ListAuxOpsDeprecationWarning: List-based `aux_operators` are deprecated as of version 0.3.0 and support for them will be removed no sooner than 3 months after the release. Instead, use dict-based `aux_operators`. You can switch to the dict-based interface immediately, by setting `qiskit_nature.settings.dict_aux_operators` to `True`.\n",
      "  second_quantized_ops = self._grouped_property_transformed.second_q_ops()\n"
     ]
    },
    {
     "name": "stdout",
     "output_type": "stream",
     "text": [
      "Number of alpha electrons: 1\n",
      "Number of beta electrons: 1\n",
      "Number of spin orbitals: 4\n",
      "Fermionic Hamiltonian operator\n",
      "Fermionic Operator\n",
      "register length=4, number terms=36\n",
      "  -1.2563390730032498 * ( +_0 -_0 )\n",
      "+ -0.47189600728114245 * ( +_1 -_1 )\n",
      "+ -1.2563390730032498 * ( +_2 -_2 )\n",
      "+ -0.47189600728114245 * ( +_3 -_3 )\n",
      "+ -0.33785507740175813 * ( +_0 +_0 -_0 -_0 )\n",
      "+ -0.09046559989211564 * ( +_0 +_1 -_1 -_0 )\n",
      "+ -0.09046559989211556 * ( +_0 +_0 -_1 -_1 )\n",
      "+ -0.33229086512764816 * ( +_0 +_1 -_0 -_1 )\n",
      "+ -0.33785507740175813 * ( +_0 +_2 -_0 -_2 )\n",
      "+ -0.09046559989211564 * ( +_0 +_3 -_1 -_2 )\n",
      "+ -0.09046559989211556 * ( +_0 +_2 -_1 -_3 )\n",
      "+ -0.33229086512764816 * ( +_0 +_3 -_0 -_3 )\n",
      "+ -0.33229086512764827 * ( +_1 +_0 -_1 -_0 )\n",
      "+ -0.09046559989211574 * ( +_1 +_1 -_0 -_0 )\n",
      "+ -0.09046559989211565 * ( +_1 +_0 -_0 -_1 )\n",
      "+ -0.34928686136600906 * ( +_1 +_1 -_1 -_1 )\n",
      "+ -0.33229086512764827 * ( +_1 +_2 -_1 -_2 )\n",
      "+ -0.09046559989211574 * ( +_1 +_3 -_0 -_2 )\n",
      "+ -0.09046559989211565 * ( +_1 +_2 -_0 -_3 )\n",
      "+ -0.34928686136600906 * ( +_1 +_3 -_1 -_3 )\n",
      "+ -0.33785507740175813 * ( +_2 +_0 -_2 -_0 )\n",
      "+ -0.09046559989211564 * ( +_2 +_1 -_3 -_0 )\n",
      "+ -0.09046559989211556 * ( +_2 +_0 -_3 - ...\n",
      " \n",
      "Qubit Hamiltonian operator\n",
      "Parity transformation \n",
      "Number of items in the Pauli list: 5\n",
      "-1.0523732457728594 * II\n",
      "+ 0.39793742484317784 * IZ\n",
      "- 0.3979374248431793 * ZI\n",
      "- 0.011280104256233686 * ZZ\n",
      "+ 0.18093119978423117 * XX\n",
      " \n",
      "PySCF restricted HF (RHF) converged ground-state energy: -1.116998996754\n",
      "Iteration, Energy, Error\n",
      "0:         -1.1038 0.0094\n",
      "1:         -1.1440 0.0068\n",
      "2:         -1.1502 0.0055\n",
      "3:         -1.1570 0.0038\n",
      "PyQMC Monte Carlo converged ground-state energy: -1.156993027097, error: 0.0038\n",
      "\n",
      "QPE initial Hartree Fock state\n"
     ]
    },
    {
     "data": {
      "image/png": "[encoded data removed]",
      "text/plain": [
       "<Figure size 146.652x144.48 with 1 Axes>"
      ]
     },
     "metadata": {},
     "output_type": "display_data"
    },
    {
     "name": "stdout",
     "output_type": "stream",
     "text": [
      "QPE computed electronic ground state energy (Hartree): -1.793437861067976\n",
      " \n",
      "Running the VQE using the NumPy exact solver\n",
      "Elapsed time: 0:00:01.493139 \n",
      "\n",
      "=== GROUND STATE ENERGY ===\n",
      " \n",
      "* Electronic ground state energy (Hartree): -1.857275030202\n",
      "  - computed part:      -1.857275030202\n",
      "~ Nuclear repulsion energy (Hartree): 0.719968994449\n",
      "> Total ground state energy (Hartree): -1.137306035753\n",
      " \n",
      "=== MEASURED OBSERVABLES ===\n",
      " \n",
      "  0:  # Particles: 2.000 S: 0.000 S^2: 0.000 M: 0.000\n",
      " \n",
      "=== DIPOLE MOMENTS ===\n",
      " \n",
      "~ Nuclear dipole moment (a.u.): [0.0  0.0  1.3889487]\n",
      " \n",
      "  0: \n",
      "  * Electronic dipole moment (a.u.): [0.0  0.0  1.3889487]\n",
      "    - computed part:      [0.0  0.0  1.3889487]\n",
      "  > Dipole moment (a.u.): [0.0  0.0  0.0]  Total: 0.0\n",
      "                 (debye): [0.0  0.0  0.0]  Total: 0.0\n",
      " \n"
     ]
    }
   ],
   "source": [
    "H2_fermionic_hamiltonian, H2_particle_number, H2_qubit_op, H2_qubit_converter, H2_ground_state = \\\n",
    "                  solve_ground_state(h2_molecule, mapper =\"Parity\",\n",
    "                   two_qubit_reduction=True, z2symmetry_reduction=None, \n",
    "                   name_solver = 'NumPy exact solver', solver = numpy_solver)"
   ]
  },
  {
   "cell_type": "code",
   "execution_count": null,
   "id": "0cdf78d3-0bfc-410f-a9ca-06fc7a7162f0",
   "metadata": {},
   "outputs": [],
   "source": []
  },
  {
   "cell_type": "markdown",
   "id": "22bbcf48-c033-4326-a535-d3bb206d4547",
   "metadata": {},
   "source": [
    "Run the VQE with the UCC factory ANSATZ "
   ]
  },
  {
   "cell_type": "markdown",
   "id": "f42a1540-a405-409f-882f-c782fd47d747",
   "metadata": {},
   "source": [
    "##### If the following cell generates an error,  continue to the next one"
   ]
  },
  {
   "cell_type": "code",
   "execution_count": 34,
   "id": "82ab5130-6bf9-4b0a-9cbb-ded067ed89cc",
   "metadata": {},
   "outputs": [],
   "source": [
    "#H2_fermionic_hamiltonian, H2_particle_number, H2_qubit_op, H2_qubit_converter, H2_ground_state = \\\n",
    " #                 solve_ground_state(h2_molecule, mapper =\"Parity\",\n",
    "  #                 two_qubit_reduction=True, z2symmetry_reduction=None, \n",
    "   #                name_solver = 'Unitary Coupled Cluster (UCC) factory ansatz', solver = vqe_ucc_solver)"
   ]
  },
  {
   "cell_type": "markdown",
   "id": "70f57dcd-a56f-4e79-b528-cfbd8bc0c070",
   "metadata": {},
   "source": [
    "Run the VQE using a heuristic ansatz, the Two-Local circuit with the default SLSQP optimizer."
   ]
  },
  {
   "cell_type": "code",
   "execution_count": 35,
   "id": "d9b36d31-4e96-46f5-9be4-002adb342e81",
   "metadata": {},
   "outputs": [
    {
     "name": "stdout",
     "output_type": "stream",
     "text": [
      "Number of alpha electrons: 1\n",
      "Number of beta electrons: 1\n",
      "Number of spin orbitals: 4\n",
      "Fermionic Hamiltonian operator\n",
      "Fermionic Operator\n",
      "register length=4, number terms=36\n",
      "  -1.2563390730032498 * ( +_0 -_0 )\n",
      "+ -0.47189600728114245 * ( +_1 -_1 )\n",
      "+ -1.2563390730032498 * ( +_2 -_2 )\n",
      "+ -0.47189600728114245 * ( +_3 -_3 )\n",
      "+ -0.33785507740175813 * ( +_0 +_0 -_0 -_0 )\n",
      "+ -0.09046559989211564 * ( +_0 +_1 -_1 -_0 )\n",
      "+ -0.09046559989211556 * ( +_0 +_0 -_1 -_1 )\n",
      "+ -0.33229086512764816 * ( +_0 +_1 -_0 -_1 )\n",
      "+ -0.33785507740175813 * ( +_0 +_2 -_0 -_2 )\n",
      "+ -0.09046559989211564 * ( +_0 +_3 -_1 -_2 )\n",
      "+ -0.09046559989211556 * ( +_0 +_2 -_1 -_3 )\n",
      "+ -0.33229086512764816 * ( +_0 +_3 -_0 -_3 )\n",
      "+ -0.33229086512764827 * ( +_1 +_0 -_1 -_0 )\n",
      "+ -0.09046559989211574 * ( +_1 +_1 -_0 -_0 )\n",
      "+ -0.09046559989211565 * ( +_1 +_0 -_0 -_1 )\n",
      "+ -0.34928686136600906 * ( +_1 +_1 -_1 -_1 )\n",
      "+ -0.33229086512764827 * ( +_1 +_2 -_1 -_2 )\n",
      "+ -0.09046559989211574 * ( +_1 +_3 -_0 -_2 )\n",
      "+ -0.09046559989211565 * ( +_1 +_2 -_0 -_3 )\n",
      "+ -0.34928686136600906 * ( +_1 +_3 -_1 -_3 )\n",
      "+ -0.33785507740175813 * ( +_2 +_0 -_2 -_0 )\n",
      "+ -0.09046559989211564 * ( +_2 +_1 -_3 -_0 )\n",
      "+ -0.09046559989211556 * ( +_2 +_0 -_3 - ...\n",
      " \n",
      "Qubit Hamiltonian operator\n",
      "Parity transformation \n",
      "Number of items in the Pauli list: 5\n",
      "-1.0523732457728594 * II\n",
      "+ 0.39793742484317784 * IZ\n",
      "- 0.3979374248431793 * ZI\n",
      "- 0.011280104256233686 * ZZ\n",
      "+ 0.18093119978423117 * XX\n",
      " \n",
      "PySCF restricted HF (RHF) converged ground-state energy: -1.116998996754\n",
      "Iteration, Energy, Error\n",
      "0:         -1.1131 0.0077\n",
      "1:         -1.1412 0.0066\n",
      "2:         -1.1433 0.0073\n",
      "3:         -1.1506 0.0046\n",
      "PyQMC Monte Carlo converged ground-state energy: -1.150645368843, error: 0.0046\n",
      "\n",
      "QPE initial Hartree Fock state\n"
     ]
    },
    {
     "data": {
      "image/png": "[encoded data removed]",
      "text/plain": [
       "<Figure size 146.652x144.48 with 1 Axes>"
      ]
     },
     "metadata": {},
     "output_type": "display_data"
    },
    {
     "name": "stdout",
     "output_type": "stream",
     "text": [
      "QPE computed electronic ground state energy (Hartree): -1.793437861067976\n",
      " \n",
      "Running the VQE using the Heuristic ansatz, the Two-Local circuit with SLSQP\n",
      "Elapsed time: 0:00:02.249209 \n",
      "\n",
      "=== GROUND STATE ENERGY ===\n",
      " \n",
      "* Electronic ground state energy (Hartree): -1.857275010328\n",
      "  - computed part:      -1.857275010328\n",
      "~ Nuclear repulsion energy (Hartree): 0.719968994449\n",
      "> Total ground state energy (Hartree): -1.137306015879\n",
      " \n",
      "=== MEASURED OBSERVABLES ===\n",
      " \n",
      "  0:  # Particles: 2.000 S: 0.000 S^2: 0.000 M: 0.000\n",
      " \n",
      "=== DIPOLE MOMENTS ===\n",
      " \n",
      "~ Nuclear dipole moment (a.u.): [0.0  0.0  1.3889487]\n",
      " \n",
      "  0: \n",
      "  * Electronic dipole moment (a.u.): [0.0  0.0  1.3889487]\n",
      "    - computed part:      [0.0  0.0  1.3889487]\n",
      "  > Dipole moment (a.u.): [0.0  0.0  0.0]  Total: 0.0\n",
      "                 (debye): [0.0  0.0  0.0]  Total: 0.0\n",
      " \n"
     ]
    }
   ],
   "source": [
    "H2_fermionic_hamiltonian, H2_particle_number, H2_qubit_op, H2_qubit_converter, H2_ground_state = \\\n",
    "                  solve_ground_state(h2_molecule, mapper =\"Parity\",\n",
    "                   two_qubit_reduction=True, z2symmetry_reduction=None, \n",
    "                   name_solver = 'Heuristic ansatz, the Two-Local circuit with SLSQP',solver = vqe_tl_solver)"
   ]
  },
  {
   "cell_type": "markdown",
   "id": "1bd4e3bd-b8cc-4a28-aefc-83ef0d6a2582",
   "metadata": {},
   "source": [
    "The following cells may take a long time to run"
   ]
  },
  {
   "cell_type": "code",
   "execution_count": 36,
   "id": "437fbe5b-3a02-40c3-a2c2-0850b9847ebc",
   "metadata": {},
   "outputs": [],
   "source": [
    "qnspsa_loss = []\n",
    "ansatz = tl_circuit\n",
    "fidelity = QNSPSA.get_fidelity(ansatz, quantum_instance, expectation=PauliExpectation())\n",
    "qnspsa = QNSPSA(fidelity, maxiter=200, learning_rate=0.01, perturbation=0.7, callback=qnspsaclb)"
   ]
  },
  {
   "cell_type": "markdown",
   "id": "6f6582ae-1b2e-4b7b-a8c1-6113133bf8aa",
   "metadata": {},
   "source": [
    "Set up VQE using a heuristic ansatz and the QN-SPSA optimizer:"
   ]
  },
  {
   "cell_type": "code",
   "execution_count": 37,
   "id": "7d267535-7283-4716-9b44-412a0ea06b87",
   "metadata": {},
   "outputs": [],
   "source": [
    "vqe_tl_QNSPSA_solver = VQE(ansatz=tl_circuit, optimizer=qnspsa,\n",
    "                     quantum_instance=quantum_instance)"
   ]
  },
  {
   "cell_type": "code",
   "execution_count": 38,
   "id": "ef1dc97e-ce6f-4b75-8de6-42ee9b28bbcd",
   "metadata": {},
   "outputs": [],
   "source": [
    "import matplotlib.pyplot as plt"
   ]
  },
  {
   "cell_type": "markdown",
   "id": "8edfca16-d6f3-4426-87f4-5e0af13e88e2",
   "metadata": {},
   "source": [
    "Call solve_ground_state() with the heuristic ansatz and the QN-SPSA optimizer."
   ]
  },
  {
   "cell_type": "code",
   "execution_count": 39,
   "id": "86732dc8-3d4f-40f7-a838-56d18970825a",
   "metadata": {},
   "outputs": [
    {
     "name": "stdout",
     "output_type": "stream",
     "text": [
      "Number of alpha electrons: 1\n",
      "Number of beta electrons: 1\n",
      "Number of spin orbitals: 4\n",
      "Fermionic Hamiltonian operator\n",
      "Fermionic Operator\n",
      "register length=4, number terms=36\n",
      "  -1.2563390730032498 * ( +_0 -_0 )\n",
      "+ -0.47189600728114245 * ( +_1 -_1 )\n",
      "+ -1.2563390730032498 * ( +_2 -_2 )\n",
      "+ -0.47189600728114245 * ( +_3 -_3 )\n",
      "+ -0.33785507740175813 * ( +_0 +_0 -_0 -_0 )\n",
      "+ -0.09046559989211564 * ( +_0 +_1 -_1 -_0 )\n",
      "+ -0.09046559989211556 * ( +_0 +_0 -_1 -_1 )\n",
      "+ -0.33229086512764816 * ( +_0 +_1 -_0 -_1 )\n",
      "+ -0.33785507740175813 * ( +_0 +_2 -_0 -_2 )\n",
      "+ -0.09046559989211564 * ( +_0 +_3 -_1 -_2 )\n",
      "+ -0.09046559989211556 * ( +_0 +_2 -_1 -_3 )\n",
      "+ -0.33229086512764816 * ( +_0 +_3 -_0 -_3 )\n",
      "+ -0.33229086512764827 * ( +_1 +_0 -_1 -_0 )\n",
      "+ -0.09046559989211574 * ( +_1 +_1 -_0 -_0 )\n",
      "+ -0.09046559989211565 * ( +_1 +_0 -_0 -_1 )\n",
      "+ -0.34928686136600906 * ( +_1 +_1 -_1 -_1 )\n",
      "+ -0.33229086512764827 * ( +_1 +_2 -_1 -_2 )\n",
      "+ -0.09046559989211574 * ( +_1 +_3 -_0 -_2 )\n",
      "+ -0.09046559989211565 * ( +_1 +_2 -_0 -_3 )\n",
      "+ -0.34928686136600906 * ( +_1 +_3 -_1 -_3 )\n",
      "+ -0.33785507740175813 * ( +_2 +_0 -_2 -_0 )\n",
      "+ -0.09046559989211564 * ( +_2 +_1 -_3 -_0 )\n",
      "+ -0.09046559989211556 * ( +_2 +_0 -_3 - ...\n",
      " \n",
      "Qubit Hamiltonian operator\n",
      "Parity transformation \n",
      "Number of items in the Pauli list: 5\n",
      "-1.0523732457728594 * II\n",
      "+ 0.39793742484317784 * IZ\n",
      "- 0.3979374248431793 * ZI\n",
      "- 0.011280104256233686 * ZZ\n",
      "+ 0.18093119978423117 * XX\n",
      " \n",
      "PySCF restricted HF (RHF) converged ground-state energy: -1.116998996754\n",
      "Iteration, Energy, Error\n",
      "0:         -1.1074 0.0088\n",
      "1:         -1.1377 0.0073\n",
      "2:         -1.1494 0.0063\n",
      "3:         -1.1521 0.0050\n",
      "PyQMC Monte Carlo converged ground-state energy: -1.152078961461, error: 0.0050\n",
      "\n",
      "QPE initial Hartree Fock state\n"
     ]
    },
    {
     "data": {
      "image/png": "[encoded data removed]",
      "text/plain": [
       "<Figure size 146.652x144.48 with 1 Axes>"
      ]
     },
     "metadata": {},
     "output_type": "display_data"
    },
    {
     "name": "stdout",
     "output_type": "stream",
     "text": [
      "QPE computed electronic ground state energy (Hartree): -1.793437861067976\n",
      " \n",
      "Running the VQE using the Two-Local circuit and the QN-SPSA optimizer\n",
      "Elapsed time: 0:02:10.361601 \n",
      "\n",
      "=== GROUND STATE ENERGY ===\n",
      " \n",
      "* Electronic ground state energy (Hartree): -1.80501716615\n",
      "  - computed part:      -1.80501716615\n",
      "~ Nuclear repulsion energy (Hartree): 0.719968994449\n",
      "> Total ground state energy (Hartree): -1.085048171701\n",
      " \n",
      "=== MEASURED OBSERVABLES ===\n",
      " \n",
      "  0:  # Particles: 2.000 S: 0.047 S^2: 0.050 M: 0.000\n",
      " \n",
      "=== DIPOLE MOMENTS ===\n",
      " \n",
      "~ Nuclear dipole moment (a.u.): [0.0  0.0  1.3889487]\n",
      " \n",
      "  0: \n",
      "  * Electronic dipole moment (a.u.): [0.0  0.0  1.39257305]\n",
      "    - computed part:      [0.0  0.0  1.39257305]\n",
      "  > Dipole moment (a.u.): [0.0  0.0  -0.00362435]  Total: 0.00362435\n",
      "                 (debye): [0.0  0.0  -0.00921218]  Total: 0.00921218\n",
      " \n"
     ]
    },
    {
     "data": {
      "image/png": "[encoded data removed]",
      "text/plain": [
       "<Figure size 864x432 with 1 Axes>"
      ]
     },
     "metadata": {
      "needs_background": "light"
     },
     "output_type": "display_data"
    }
   ],
   "source": [
    "H2_fermionic_hamiltonian, H2_particle_number, H2_qubit_op, H2_qubit_converter, H2_ground_state = \\\n",
    "                  solve_ground_state(h2_molecule, mapper =\"Parity\",\n",
    "                  two_qubit_reduction=True, z2symmetry_reduction=None, loss=qnspsa_loss, label='QN-SPSA', target=-1.857274810366,\n",
    "                  name_solver='Two-Local circuit and the QN-SPSA optimizer', solver=vqe_tl_QNSPSA_solver)"
   ]
  },
  {
   "cell_type": "code",
   "execution_count": null,
   "id": "24868e64-4e35-43cf-9bdb-0807e7b3f029",
   "metadata": {},
   "outputs": [],
   "source": []
  },
  {
   "cell_type": "code",
   "execution_count": null,
   "id": "722b2f7e-0716-4467-994e-5e78158ea54e",
   "metadata": {},
   "outputs": [],
   "source": []
  }
 ],
 "metadata": {
  "kernelspec": {
   "display_name": "Python 3 [qBraid-SDK]",
   "language": "python",
   "name": "python3_qbraid_sdk_9j9sjy"
  },
  "language_info": {
   "codemirror_mode": {
    "name": "ipython",
    "version": 3
   },
   "file_extension": ".py",
   "mimetype": "text/x-python",
   "name": "python",
   "nbconvert_exporter": "python",
   "pygments_lexer": "ipython3",
   "version": "3.9.10"
  }
 },
 "nbformat": 4,
 "nbformat_minor": 5
}
